{
 "cells": [
  {
   "cell_type": "code",
   "execution_count": 4,
   "id": "initial_id",
   "metadata": {
    "collapsed": true,
    "ExecuteTime": {
     "end_time": "2024-05-28T18:15:24.047325100Z",
     "start_time": "2024-05-28T18:15:22.197576800Z"
    }
   },
   "outputs": [],
   "source": [
    "import pandas as pd\n",
    "from bs4 import BeautifulSoup\n",
    "from selenium import webdriver\n",
    "from selenium.webdriver.chrome.service import Service\n",
    "from selenium.webdriver.chrome.options import Options\n",
    "from selenium.webdriver.common.by import By\n",
    "from selenium.webdriver.support.ui import WebDriverWait\n",
    "from webdriver_manager.chrome import ChromeDriverManager\n",
    "from selenium.webdriver.support import expected_conditions as EC"
   ]
  },
  {
   "cell_type": "code",
   "execution_count": 29,
   "outputs": [],
   "source": [
    "def replace_html_entities(html):\n",
    "    html = html.replace('&lt;', '<')\n",
    "    html = html.replace('&gt;', '>')\n",
    "    return html"
   ],
   "metadata": {
    "collapsed": false,
    "ExecuteTime": {
     "end_time": "2024-05-28T18:37:08.258650800Z",
     "start_time": "2024-05-28T18:37:08.225100Z"
    }
   },
   "id": "5bd46eef3458e1f1"
  },
  {
   "cell_type": "code",
   "execution_count": 38,
   "outputs": [],
   "source": [
    "def get_touch_html(match_id):   \n",
    "    chrome_options = Options()\n",
    "    driver = webdriver.Chrome(service=Service(ChromeDriverManager().install()), options=chrome_options)\n",
    "    driver.get(f\"https://www.ligaprofesional.ar/ficha-partido?competition=384&season=2024&match={match_id}\")\n",
    "    WebDriverWait(driver, 10).until(EC.presence_of_element_located((By.TAG_NAME, \"body\")))\n",
    "    mapa_de_toques_tab = WebDriverWait(driver, 10).until(\n",
    "        EC.element_to_be_clickable((By.XPATH, \"//ul[@class='Opta-Cf']//a[text()='Mapa de toques']\"))\n",
    "    )\n",
    "    mapa_de_toques_tab.click()\n",
    "    WebDriverWait(driver, 10).until(EC.presence_of_element_located((By.CSS_SELECTOR, \".Opta-Teamsheet-Button\")))\n",
    "\n",
    "    home_dropdown_button = WebDriverWait(driver, 10).until(\n",
    "        EC.element_to_be_clickable((By.CSS_SELECTOR, \".Opta-Teamsheet-Button.Opta-Team-Left\"))\n",
    "    )\n",
    "    home_dropdown_button.click()\n",
    "    home_team_box = WebDriverWait(driver, 10).until(\n",
    "        EC.element_to_be_clickable((By.CSS_SELECTOR, \".Opta-Teamsheet.Opta-Home dt.Opta-Team\"))\n",
    "    )\n",
    "    driver.execute_script(\"arguments[0].click();\", home_team_box)\n",
    "    home_dropdown_button.click()\n",
    "\n",
    "    away_dropdown_button = WebDriverWait(driver, 10).until(\n",
    "        EC.element_to_be_clickable((By.CSS_SELECTOR, \".Opta-Teamsheet-Button.Opta-Team-Right\"))\n",
    "    )\n",
    "    away_dropdown_button.click()\n",
    "    away_team_box = WebDriverWait(driver, 10).until(\n",
    "        EC.element_to_be_clickable((By.CSS_SELECTOR, \".Opta-Teamsheet.Opta-Away dt.Opta-Team\"))\n",
    "    )\n",
    "    driver.execute_script(\"arguments[0].click();\", away_team_box)\n",
    "    away_dropdown_button.click()\n",
    "    \n",
    "    optas_touch_sections = driver.find_elements(By.CSS_SELECTOR, \".Opta-touch\")\n",
    "    all_optas_touch_html = \"\"\n",
    "    for section in optas_touch_sections:\n",
    "        all_optas_touch_html += section.get_attribute('outerHTML') + \"\\n\"\n",
    "     \n",
    "    home_team_element = driver.find_element(By.CSS_SELECTOR, \".Opta-Team.Opta-Home.Opta-Team-Left.Opta-TeamName\")\n",
    "    away_team_element = driver.find_element(By.CSS_SELECTOR, \".Opta-Team.Opta-Away.Opta-Team-Right.Opta-TeamName\")\n",
    "    \n",
    "    home_team_html = home_team_element.get_attribute('outerHTML')\n",
    "    away_team_html = away_team_element.get_attribute('outerHTML')\n",
    "    \n",
    "    full_html_content = home_team_html + \"\\n\" + away_team_html + \"\\n\" + all_optas_touch_html\n",
    "    full_html_content = replace_html_entities(full_html_content)\n",
    "    \n",
    "    with open(f\"{match_id}_touches.html\", \"w\", encoding=\"utf-8\") as file:\n",
    "        file.write(full_html_content)"
   ],
   "metadata": {
    "collapsed": false,
    "ExecuteTime": {
     "end_time": "2024-05-28T18:54:40.764558100Z",
     "start_time": "2024-05-28T18:54:40.745673500Z"
    }
   },
   "id": "e33dcada43522fe0"
  },
  {
   "cell_type": "code",
   "execution_count": 45,
   "outputs": [],
   "source": [
    "match_id=2420227\n",
    "get_touch_html(match_id)"
   ],
   "metadata": {
    "collapsed": false,
    "ExecuteTime": {
     "end_time": "2024-05-28T19:00:16.414847Z",
     "start_time": "2024-05-28T18:59:54.073636Z"
    }
   },
   "id": "5964e12343a07272"
  },
  {
   "cell_type": "code",
   "execution_count": 40,
   "outputs": [],
   "source": [
    "with open(f'{match_id}_touches.html', 'r', encoding='utf-8') as file:\n",
    "    file = file.read()"
   ],
   "metadata": {
    "collapsed": false,
    "ExecuteTime": {
     "end_time": "2024-05-28T18:55:38.719422200Z",
     "start_time": "2024-05-28T18:55:38.702170900Z"
    }
   },
   "id": "e2cae359666d48d"
  },
  {
   "cell_type": "code",
   "execution_count": 43,
   "outputs": [],
   "source": [
    "def scrape_touches(file_name):\n",
    "    soup = BeautifulSoup(file_name, 'html.parser')\n",
    "    sections = soup.find_all('circle', class_=lambda x: x and 'Opta-touch' in x and 'Opta-noclick' in x)\n",
    "    data = []\n",
    "    \n",
    "    home_team_tag = soup.find('td', class_=lambda x: x and 'Opta-Team' in x and 'Opta-Home' in x \n",
    "                                                     and 'Opta-Team-Left' in x and 'Opta-TeamName' in x)\n",
    "    home_team = home_team_tag.text.strip().split('\\n')[0].strip()\n",
    "\n",
    "    away_team_tag = soup.find('td', class_=lambda x: x and 'Opta-Team' in x and 'Opta-Away' in x \n",
    "                                                     and 'Opta-Team-Right' in x and 'Opta-TeamName' in x)\n",
    "    away_team = away_team_tag.text.strip().split('\\n')[0].strip()\n",
    "\n",
    "    for section in sections:\n",
    "        team = away_team if 'Opta-away' in section['class'] else home_team\n",
    "        cx = section['cx']\n",
    "        cy = section['cy']\n",
    "\n",
    "        text_content = section.find('text', class_='Opta-JS-Tip').decode_contents()\n",
    "        inner_soup = BeautifulSoup(text_content, 'html.parser')\n",
    "        \n",
    "        name = inner_soup.find('p').text\n",
    "        desc = inner_soup.find('span', class_='Opta-Tooltip-Key').text\n",
    "        minute = inner_soup.find('span', class_='Opta-Tooltip-Value').text.replace('&lrm;', '')\n",
    "        \n",
    "        data.append({'team': team, 'player': name, 'x': cx, 'y': cy, 'desc': desc, 'minute': minute})\n",
    "    \n",
    "    return pd.DataFrame(data)"
   ],
   "metadata": {
    "collapsed": false,
    "ExecuteTime": {
     "end_time": "2024-05-28T18:59:01.033445500Z",
     "start_time": "2024-05-28T18:59:01.001535600Z"
    }
   },
   "id": "2bde6c5d9882205f"
  },
  {
   "cell_type": "code",
   "execution_count": 44,
   "outputs": [
    {
     "data": {
      "text/plain": "                    team             player      x                   y  \\\n0     Argentinos Juniors   Damián Batallini  398.4                 262   \n1     Argentinos Juniors      Ariel Gamarra    504             287.676   \n2     Argentinos Juniors   Sebastián Prieto  536.8             460.072   \n3     Argentinos Juniors     Tobías Palacio  602.4  364.17999999999995   \n4     Argentinos Juniors  Francisco Álvarez    568               83.84   \n...                  ...                ...    ...                 ...   \n1185     Vélez Sarsfield  Christian Ordoñez  588.8  415.00800000000004   \n1186     Vélez Sarsfield       Lenny Lobato  614.4             408.196   \n1187     Vélez Sarsfield      Thiago Vecino  733.6             259.904   \n1188  Argentinos Juniors    Diego Rodríguez  785.6             257.284   \n1189  Argentinos Juniors    Diego Rodríguez  712.8  216.41199999999998   \n\n               desc minute  \n0     Saque inicial     0'  \n1              Pase     1'  \n2              Pase     1'  \n3              Pase     1'  \n4              Pase     1'  \n...             ...    ...  \n1185           Foul  90+6'  \n1186      Free kick  90+7'  \n1187   Tiro atajado  90+7'  \n1188           Save  90+7'  \n1189           Pase  90+8'  \n\n[1190 rows x 6 columns]",
      "text/html": "<div>\n<style scoped>\n    .dataframe tbody tr th:only-of-type {\n        vertical-align: middle;\n    }\n\n    .dataframe tbody tr th {\n        vertical-align: top;\n    }\n\n    .dataframe thead th {\n        text-align: right;\n    }\n</style>\n<table border=\"1\" class=\"dataframe\">\n  <thead>\n    <tr style=\"text-align: right;\">\n      <th></th>\n      <th>team</th>\n      <th>player</th>\n      <th>x</th>\n      <th>y</th>\n      <th>desc</th>\n      <th>minute</th>\n    </tr>\n  </thead>\n  <tbody>\n    <tr>\n      <th>0</th>\n      <td>Argentinos Juniors</td>\n      <td>Damián Batallini</td>\n      <td>398.4</td>\n      <td>262</td>\n      <td>Saque inicial</td>\n      <td>0'</td>\n    </tr>\n    <tr>\n      <th>1</th>\n      <td>Argentinos Juniors</td>\n      <td>Ariel Gamarra</td>\n      <td>504</td>\n      <td>287.676</td>\n      <td>Pase</td>\n      <td>1'</td>\n    </tr>\n    <tr>\n      <th>2</th>\n      <td>Argentinos Juniors</td>\n      <td>Sebastián Prieto</td>\n      <td>536.8</td>\n      <td>460.072</td>\n      <td>Pase</td>\n      <td>1'</td>\n    </tr>\n    <tr>\n      <th>3</th>\n      <td>Argentinos Juniors</td>\n      <td>Tobías Palacio</td>\n      <td>602.4</td>\n      <td>364.17999999999995</td>\n      <td>Pase</td>\n      <td>1'</td>\n    </tr>\n    <tr>\n      <th>4</th>\n      <td>Argentinos Juniors</td>\n      <td>Francisco Álvarez</td>\n      <td>568</td>\n      <td>83.84</td>\n      <td>Pase</td>\n      <td>1'</td>\n    </tr>\n    <tr>\n      <th>...</th>\n      <td>...</td>\n      <td>...</td>\n      <td>...</td>\n      <td>...</td>\n      <td>...</td>\n      <td>...</td>\n    </tr>\n    <tr>\n      <th>1185</th>\n      <td>Vélez Sarsfield</td>\n      <td>Christian Ordoñez</td>\n      <td>588.8</td>\n      <td>415.00800000000004</td>\n      <td>Foul</td>\n      <td>90+6'</td>\n    </tr>\n    <tr>\n      <th>1186</th>\n      <td>Vélez Sarsfield</td>\n      <td>Lenny Lobato</td>\n      <td>614.4</td>\n      <td>408.196</td>\n      <td>Free kick</td>\n      <td>90+7'</td>\n    </tr>\n    <tr>\n      <th>1187</th>\n      <td>Vélez Sarsfield</td>\n      <td>Thiago Vecino</td>\n      <td>733.6</td>\n      <td>259.904</td>\n      <td>Tiro atajado</td>\n      <td>90+7'</td>\n    </tr>\n    <tr>\n      <th>1188</th>\n      <td>Argentinos Juniors</td>\n      <td>Diego Rodríguez</td>\n      <td>785.6</td>\n      <td>257.284</td>\n      <td>Save</td>\n      <td>90+7'</td>\n    </tr>\n    <tr>\n      <th>1189</th>\n      <td>Argentinos Juniors</td>\n      <td>Diego Rodríguez</td>\n      <td>712.8</td>\n      <td>216.41199999999998</td>\n      <td>Pase</td>\n      <td>90+8'</td>\n    </tr>\n  </tbody>\n</table>\n<p>1190 rows × 6 columns</p>\n</div>"
     },
     "execution_count": 44,
     "metadata": {},
     "output_type": "execute_result"
    }
   ],
   "source": [
    "scrape_touches(file)"
   ],
   "metadata": {
    "collapsed": false,
    "ExecuteTime": {
     "end_time": "2024-05-28T18:59:08.718017700Z",
     "start_time": "2024-05-28T18:59:03.588098600Z"
    }
   },
   "id": "4c24a3c0f3f5577c"
  }
 ],
 "metadata": {
  "kernelspec": {
   "display_name": "Python 3",
   "language": "python",
   "name": "python3"
  },
  "language_info": {
   "codemirror_mode": {
    "name": "ipython",
    "version": 2
   },
   "file_extension": ".py",
   "mimetype": "text/x-python",
   "name": "python",
   "nbconvert_exporter": "python",
   "pygments_lexer": "ipython2",
   "version": "2.7.6"
  }
 },
 "nbformat": 4,
 "nbformat_minor": 5
}
