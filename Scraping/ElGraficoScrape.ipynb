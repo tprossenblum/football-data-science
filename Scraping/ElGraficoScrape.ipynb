{
 "cells": [
  {
   "cell_type": "code",
   "execution_count": 2,
   "outputs": [],
   "source": [
    "import requests\n",
    "import pandas as pd\n",
    "from datetime import datetime"
   ],
   "metadata": {
    "collapsed": false,
    "ExecuteTime": {
     "end_time": "2024-05-28T03:04:06.270645Z",
     "start_time": "2024-05-28T03:04:05.969674400Z"
    }
   },
   "id": "8c89f7d403d40141"
  },
  {
   "cell_type": "code",
   "execution_count": 3,
   "outputs": [],
   "source": [
    "def get_match_json(match_id):\n",
    "    response = requests.get(f'https://www.elgrafico.com.ar/data/html/v3/htmlCenter/data/deportes/futbol/primeraa/events/{match_id}.json?t=28604035')\n",
    "    json_data = response.json()\n",
    "    return json_data"
   ],
   "metadata": {
    "collapsed": false,
    "ExecuteTime": {
     "end_time": "2024-05-28T03:04:06.270645Z",
     "start_time": "2024-05-28T03:04:06.065351400Z"
    }
   },
   "id": "initial_id"
  },
  {
   "cell_type": "code",
   "execution_count": 4,
   "outputs": [],
   "source": [
    "def get_match_details(match_json):\n",
    "    match_info = match_json['match']\n",
    "    venue_info = match_json['venueInformation']['venue']\n",
    "    stadium_info = venue_info['stadium']\n",
    "    \n",
    "    original_date = match_info.get('date')\n",
    "    transformed_date = datetime.strptime(original_date, \"%Y%m%d\").strftime(\"%d-%m-%Y\")\n",
    "    \n",
    "    match_details = {\n",
    "        'date': transformed_date,\n",
    "        'scheduled_start': match_info.get('scheduledStart'),\n",
    "        'home_team': match_info.get('homeTeamName'),\n",
    "        'away_team': match_info.get('awayTeamName'),\n",
    "        'competition': match_info.get('competition'),\n",
    "        'stadium_name': stadium_info.get('stadiumName'),\n",
    "    }\n",
    "\n",
    "    match_details_df = pd.DataFrame([match_details])\n",
    "    return match_details_df"
   ],
   "metadata": {
    "collapsed": false,
    "ExecuteTime": {
     "end_time": "2024-05-28T03:04:06.270645Z",
     "start_time": "2024-05-28T03:04:06.081420Z"
    }
   },
   "id": "a0e2df130c985dd0"
  },
  {
   "cell_type": "code",
   "execution_count": 5,
   "outputs": [],
   "source": [
    "def get_players(match_json):\n",
    "    players_data = match_json['players']\n",
    "    player_list = []\n",
    "    \n",
    "    for player_id, player_info in players_data.items():\n",
    "        player = {\n",
    "            'player_id': player_id,\n",
    "            'team_id': player_info.get('teamId'),\n",
    "            'pos_id': player_info.get('posnId'),\n",
    "            'no' : player_info.get('squadNo'),\n",
    "            'name': player_info.get('name', {}).get('shortName'),\n",
    "            'substitute': player_info.get('substitute')\n",
    "        }\n",
    "        player_list.append(player)\n",
    "    \n",
    "    player_df = pd.DataFrame(player_list)\n",
    "    return player_df"
   ],
   "metadata": {
    "collapsed": false,
    "ExecuteTime": {
     "end_time": "2024-05-28T03:04:06.270645Z",
     "start_time": "2024-05-28T03:04:06.097199400Z"
    }
   },
   "id": "a4599c4ce1498aed"
  },
  {
   "cell_type": "code",
   "execution_count": 6,
   "outputs": [],
   "source": [
    "def get_teams(match_json):\n",
    "    home_team_id = match_json['match']['homeTeamId']\n",
    "    home_team_name = match_json['match']['homeTeamName']\n",
    "    \n",
    "    away_team_id = match_json['match']['awayTeamId']\n",
    "    away_team_name = match_json['match']['awayTeamName']\n",
    "    \n",
    "    df_teams = pd.DataFrame({\n",
    "        'team_id': [home_team_id, away_team_id],\n",
    "        'team_name': [home_team_name, away_team_name]\n",
    "    })\n",
    "    \n",
    "    return df_teams"
   ],
   "metadata": {
    "collapsed": false,
    "ExecuteTime": {
     "end_time": "2024-05-28T03:04:06.270645Z",
     "start_time": "2024-05-28T03:04:06.113277200Z"
    }
   },
   "id": "87d5e283e0f7efba"
  },
  {
   "cell_type": "code",
   "execution_count": 7,
   "outputs": [],
   "source": [
    "def get_goals(match_json):\n",
    "    goals_data = match_json['incidences']['goals']\n",
    "    goals_list = []\n",
    "    \n",
    "    for goal_id, goal_info in goals_data.items():\n",
    "        goal = {\n",
    "            'type': 'goal',\n",
    "            'half': goal_info['t'].get('half'),\n",
    "            'minute': goal_info['t'].get('m'),\n",
    "            'second': goal_info['t'].get('s'),\n",
    "            'team': goal_info.get('team'),\n",
    "            'player_id': goal_info.get('plyrId'),\n",
    "            'receiver_id': goal_info.get('assBy'),\n",
    "            'coord_1_x': goal_info['coord']['1'].get('x'),\n",
    "            'coord_1_y': goal_info['coord']['1'].get('y'),\n",
    "            'coord_1_z': goal_info['coord']['1'].get('z'),\n",
    "            'coord_2_x': goal_info['coord']['2'].get('x'),\n",
    "            'coord_2_y': goal_info['coord']['2'].get('y'),\n",
    "            'coord_2_z': goal_info['coord']['2'].get('z')\n",
    "        }\n",
    "        goals_list.append(goal)\n",
    "\n",
    "    goals_df = pd.DataFrame(goals_list)\n",
    "    return goals_df"
   ],
   "metadata": {
    "collapsed": false,
    "ExecuteTime": {
     "end_time": "2024-05-28T03:04:06.286734600Z",
     "start_time": "2024-05-28T03:04:06.128907Z"
    }
   },
   "id": "4147b7e4b1541b12"
  },
  {
   "cell_type": "code",
   "execution_count": 8,
   "outputs": [],
   "source": [
    "def get_subs(match_json):\n",
    "    substitutions_data = match_json['incidences']['substitutions']\n",
    "    substitutions_list = []\n",
    "    \n",
    "    for sub_id, sub_info in substitutions_data.items():\n",
    "        substitution = {\n",
    "            'type': 'substitution',\n",
    "            'half': sub_info['t'].get('half'),\n",
    "            'minute': sub_info['t'].get('m'),\n",
    "            'second': sub_info['t'].get('s'),\n",
    "            'team': sub_info.get('team'),\n",
    "            # receiver_id is the player coming off\n",
    "            # This is done to make the columns of the end csv more general\n",
    "            'receiver_id': sub_info.get('offId'),\n",
    "            'player_id': sub_info.get('inId')\n",
    "        }\n",
    "        substitutions_list.append(substitution)\n",
    "\n",
    "    substitutions_df = pd.DataFrame(substitutions_list)\n",
    "    return substitutions_df"
   ],
   "metadata": {
    "collapsed": false,
    "ExecuteTime": {
     "end_time": "2024-05-28T03:04:06.286734600Z",
     "start_time": "2024-05-28T03:04:06.144873800Z"
    }
   },
   "id": "952381c54b43a8e"
  },
  {
   "cell_type": "code",
   "execution_count": 9,
   "outputs": [],
   "source": [
    "def get_clearances(match_json):\n",
    "    clearances_data = match_json['incidences']['clearances']\n",
    "    clearances_list = []\n",
    "    \n",
    "    for clearance_id, clearance_info in clearances_data.items():\n",
    "        clearance = {\n",
    "            'type': 'clearance',\n",
    "            'half': clearance_info['t'].get('half'),\n",
    "            'minute': clearance_info['t'].get('m'),\n",
    "            'second': clearance_info['t'].get('s'),\n",
    "            'team': clearance_info.get('team'),\n",
    "            'player_id': clearance_info.get('plyrId')\n",
    "        }\n",
    "        clearances_list.append(clearance)\n",
    "    \n",
    "    clearances_df = pd.DataFrame(clearances_list)\n",
    "    return clearances_df"
   ],
   "metadata": {
    "collapsed": false,
    "ExecuteTime": {
     "end_time": "2024-05-28T03:04:06.286734600Z",
     "start_time": "2024-05-28T03:04:06.160504300Z"
    }
   },
   "id": "ced81becdadf7dc0"
  },
  {
   "cell_type": "code",
   "execution_count": 10,
   "outputs": [],
   "source": [
    "def get_corners(match_json):  \n",
    "    corner_data = match_json['incidences']['cornerKicks']\n",
    "    corner_list = []\n",
    "    \n",
    "    for corner_id, corner_info in corner_data.items():\n",
    "        corner = {\n",
    "            'type': 'corner',\n",
    "            'half': corner_info['t'].get('half'),\n",
    "            'minute': corner_info['t'].get('m'),\n",
    "            'second': corner_info['t'].get('s'),\n",
    "            'team': corner_info.get('team'),\n",
    "            'player_id': corner_info.get('plyrId'),\n",
    "            'coord_1_x': corner_info['coord']['1'].get('x'),\n",
    "            'coord_1_y': corner_info['coord']['1'].get('y'),\n",
    "            'coord_1_z': corner_info['coord']['1'].get('z'),\n",
    "            'coord_2_x': corner_info['coord']['2'].get('x'),\n",
    "            'coord_2_y': corner_info['coord']['2'].get('y'),\n",
    "            'coord_2_z': corner_info['coord']['2'].get('z')\n",
    "        }\n",
    "        corner_list.append(corner)\n",
    "\n",
    "    df_corners = pd.DataFrame(corner_list)\n",
    "    return df_corners"
   ],
   "metadata": {
    "collapsed": false,
    "ExecuteTime": {
     "end_time": "2024-05-28T03:04:06.286734600Z",
     "start_time": "2024-05-28T03:04:06.176260700Z"
    }
   },
   "id": "cd907bb79fc7874a"
  },
  {
   "cell_type": "code",
   "execution_count": 11,
   "outputs": [],
   "source": [
    "def get_correct_passes(match_json): \n",
    "    correct_passes_data = match_json['incidences']['correctPasses']\n",
    "    correct_passes_list = []\n",
    "    \n",
    "    for pass_id, pass_info in correct_passes_data.items():\n",
    "        correct_pass = {\n",
    "            'type': 'completed_pass',\n",
    "            'half': pass_info['t'].get('half'),\n",
    "            'minute': pass_info['t'].get('m'),\n",
    "            'second': pass_info['t'].get('s'),\n",
    "            'team': pass_info.get('team'),\n",
    "            'receiver_id': pass_info.get('recvId'),\n",
    "            'player_id': pass_info.get('plyrId'),\n",
    "            'coord_1_x': pass_info.get('coord', {}).get('1', {}).get('x'),\n",
    "            'coord_1_y': pass_info.get('coord', {}).get('1', {}).get('y'),\n",
    "            'coord_1_z': pass_info.get('coord', {}).get('1', {}).get('z'),\n",
    "            'coord_2_x': pass_info.get('coord', {}).get('2', {}).get('x'),\n",
    "            'coord_2_y': pass_info.get('coord', {}).get('2', {}).get('y'),\n",
    "            'coord_2_z': pass_info.get('coord', {}).get('2', {}).get('z')\n",
    "        }\n",
    "        correct_passes_list.append(correct_pass)\n",
    "    \n",
    "    correct_pass_df = pd.DataFrame(correct_passes_list)\n",
    "    return correct_pass_df"
   ],
   "metadata": {
    "collapsed": false,
    "ExecuteTime": {
     "end_time": "2024-05-28T03:04:06.286734600Z",
     "start_time": "2024-05-28T03:04:06.192088900Z"
    }
   },
   "id": "156b4b583c65420d"
  },
  {
   "cell_type": "code",
   "execution_count": 12,
   "outputs": [],
   "source": [
    "def get_incorrect_passes(match_json): \n",
    "    incorrect_passes_data = match_json['incidences']['incorrectPasses']\n",
    "    incorrect_passes_list = []\n",
    "    \n",
    "    for pass_id, pass_info in incorrect_passes_data.items():\n",
    "        incorrect_pass = {\n",
    "            'type': 'incomplete_pass',\n",
    "            'half': pass_info['t'].get('half'),\n",
    "            'minute': pass_info['t'].get('m'),\n",
    "            'second': pass_info['t'].get('s'),\n",
    "            'team': pass_info.get('team'),\n",
    "            'player_id': pass_info.get('plyrId'),\n",
    "            'coord_1_x': pass_info.get('coord', {}).get('1', {}).get('x'),\n",
    "            'coord_1_y': pass_info.get('coord', {}).get('1', {}).get('y'),\n",
    "            'coord_1_z': pass_info.get('coord', {}).get('1', {}).get('z'),\n",
    "            'coord_2_x': pass_info.get('coord', {}).get('2', {}).get('x'),\n",
    "            'coord_2_y': pass_info.get('coord', {}).get('2', {}).get('y'),\n",
    "            'coord_2_z': pass_info.get('coord', {}).get('2', {}).get('z')\n",
    "        }\n",
    "        incorrect_passes_list.append(incorrect_pass)\n",
    "    \n",
    "    incorrect_pass_df = pd.DataFrame(incorrect_passes_list)\n",
    "    return incorrect_pass_df"
   ],
   "metadata": {
    "collapsed": false,
    "ExecuteTime": {
     "end_time": "2024-05-28T03:04:06.286734600Z",
     "start_time": "2024-05-28T03:04:06.207720800Z"
    }
   },
   "id": "17566ffa825b22e1"
  },
  {
   "cell_type": "code",
   "execution_count": 13,
   "outputs": [],
   "source": [
    "def get_offsides(match_json):\n",
    "    offsides_data = match_json['incidences']['offsides']\n",
    "    offsides_list = []\n",
    "    \n",
    "    for offside_id, offside_info in offsides_data.items():\n",
    "        offside = {\n",
    "            'type': 'offside',\n",
    "            'half': offside_info['t'].get('half'),\n",
    "            'minute': offside_info['t'].get('m'),\n",
    "            'second': offside_info['t'].get('s'),\n",
    "            'team': offside_info.get('team'),\n",
    "            'player_id': offside_info.get('plyrId'),\n",
    "            'coord_1_x': offside_info['coord']['1'].get('x'),\n",
    "            'coord_1_y': offside_info['coord']['1'].get('y'),\n",
    "            'coord_1_z': offside_info['coord']['1'].get('z')\n",
    "        }\n",
    "        offsides_list.append(offside)\n",
    "    \n",
    "    offsides_df = pd.DataFrame(offsides_list)\n",
    "    return offsides_df"
   ],
   "metadata": {
    "collapsed": false,
    "ExecuteTime": {
     "end_time": "2024-05-28T03:04:06.286734600Z",
     "start_time": "2024-05-28T03:04:06.233108200Z"
    }
   },
   "id": "74f5a84ec51660c0"
  },
  {
   "cell_type": "code",
   "execution_count": 14,
   "outputs": [],
   "source": [
    "def get_shots(match_json):\n",
    "    shots_data = match_json['incidences']['shots']\n",
    "    shots_list = []\n",
    "    \n",
    "    for shot_id, shot_info in shots_data.items():\n",
    "        shot = {\n",
    "            'type': 'shot',\n",
    "            'half': shot_info['t'].get('half'),\n",
    "            'minute': shot_info['t'].get('m'),\n",
    "            'second': shot_info['t'].get('s'),\n",
    "            'team': shot_info.get('team'),\n",
    "            # receiver_id corresponds to the goalie who makes the save\n",
    "            # Done to have column names be more general\n",
    "            'receiver_id': shot_info.get('ctchBy'),\n",
    "            'player_id': shot_info.get('plyrId'),\n",
    "            'coord_1_x': shot_info['coord']['1'].get('x'),\n",
    "            'coord_1_y': shot_info['coord']['1'].get('y'),\n",
    "            'coord_1_z': shot_info['coord']['1'].get('z'),\n",
    "            'coord_2_x': shot_info['coord']['2'].get('x'),\n",
    "            'coord_2_y': shot_info['coord']['2'].get('y'),\n",
    "            'coord_2_z': shot_info['coord']['2'].get('z')\n",
    "        }\n",
    "        shots_list.append(shot)\n",
    "    \n",
    "    shots_df = pd.DataFrame(shots_list)\n",
    "    return shots_df"
   ],
   "metadata": {
    "collapsed": false,
    "ExecuteTime": {
     "end_time": "2024-05-28T03:04:06.286734600Z",
     "start_time": "2024-05-28T03:04:06.241370900Z"
    }
   },
   "id": "8f5172ce64029f88"
  },
  {
   "cell_type": "code",
   "execution_count": 15,
   "outputs": [],
   "source": [
    "def get_steals(match_json):\n",
    "    stealings_data = match_json['incidences']['stealings']\n",
    "    stealings_list = []\n",
    "    \n",
    "    for stealing_id, stealing_info in stealings_data.items():\n",
    "        stealing = {\n",
    "            'type': 'steal',\n",
    "            'half': stealing_info['t'].get('half'),\n",
    "            'minute': stealing_info['t'].get('m'),\n",
    "            'second': stealing_info['t'].get('s'),\n",
    "            'team': stealing_info.get('team'),\n",
    "            'player_id': stealing_info.get('plyrId'),\n",
    "            'coord_1_x': stealing_info.get('coord', {}).get('1', {}).get('x'),\n",
    "            'coord_1_y': stealing_info.get('coord', {}).get('1', {}).get('y'),\n",
    "            'coord_1_z': stealing_info.get('coord', {}).get('1', {}).get('z')\n",
    "        }\n",
    "        stealings_list.append(stealing)\n",
    "    \n",
    "    steals_df = pd.DataFrame(stealings_list)\n",
    "    return steals_df"
   ],
   "metadata": {
    "collapsed": false,
    "ExecuteTime": {
     "end_time": "2024-05-28T03:04:06.286734600Z",
     "start_time": "2024-05-28T03:04:06.254877200Z"
    }
   },
   "id": "d7936f25dcfa46de"
  },
  {
   "cell_type": "code",
   "execution_count": 16,
   "outputs": [],
   "source": [
    "def get_cards(match_json):\n",
    "    yellow_cards_data = match_json['incidences']['yellowCards']\n",
    "    yellow_cards_list = []\n",
    "    \n",
    "    for card_id, card_info in yellow_cards_data.items():\n",
    "        card = {\n",
    "            'type': 'yellow',\n",
    "            'half': card_info['t'].get('half'),\n",
    "            'minute': card_info['t'].get('m'),\n",
    "            'second': card_info['t'].get('s'),\n",
    "            'team': card_info.get('team'),\n",
    "            'reason': card_info.get('reason'),\n",
    "            'player_id': card_info.get('plyrId')\n",
    "        }\n",
    "        yellow_cards_list.append(card)\n",
    "    \n",
    "    red_cards_data = match_json['incidences']['redCards']\n",
    "    red_cards_list = []\n",
    "    \n",
    "    for card_id, card_info in red_cards_data.items():\n",
    "        card = {\n",
    "            'type': 'red',\n",
    "            'half': card_info['t'].get('half'),\n",
    "            'minute': card_info['t'].get('m'),\n",
    "            'second': card_info['t'].get('s'),\n",
    "            'team': card_info.get('team'),\n",
    "            'reason': card_info.get('reason'),\n",
    "            'player_id': card_info.get('plyrId')\n",
    "        }\n",
    "        red_cards_list.append(card)\n",
    "    \n",
    "    cards_list = yellow_cards_list + red_cards_list\n",
    "    \n",
    "    cards_df = pd.DataFrame(cards_list)\n",
    "    return cards_df"
   ],
   "metadata": {
    "collapsed": false,
    "ExecuteTime": {
     "end_time": "2024-05-28T03:04:06.302571800Z",
     "start_time": "2024-05-28T03:04:06.270645Z"
    }
   },
   "id": "6db1aea29cf75e12"
  },
  {
   "cell_type": "code",
   "execution_count": 17,
   "outputs": [],
   "source": [
    "def get_throws(match_json):\n",
    "    throw_ins_data = match_json['incidences']['throwIn']\n",
    "    throw_ins_list = []\n",
    "    \n",
    "    for throw_in_id, throw_in_info in throw_ins_data.items():\n",
    "        throw_in = {\n",
    "            'type': 'throw_in',\n",
    "            'half': throw_in_info['t'].get('half'),\n",
    "            'minute': throw_in_info['t'].get('m'),\n",
    "            'second': throw_in_info['t'].get('s'),\n",
    "            'team': throw_in_info.get('team'),\n",
    "            'player_id': throw_in_info.get('plyrId'),\n",
    "            'coord_1_x': throw_in_info['coord']['1'].get('x'),\n",
    "            'coord_1_y': throw_in_info['coord']['1'].get('y'),\n",
    "            'coord_1_z': throw_in_info['coord']['1'].get('z'),\n",
    "            'coord_2_x': throw_in_info['coord']['2'].get('x'),\n",
    "            'coord_2_y': throw_in_info['coord']['2'].get('y'),\n",
    "            'coord_2_z': throw_in_info['coord']['2'].get('z')\n",
    "        }\n",
    "        throw_ins_list.append(throw_in)\n",
    "    \n",
    "    throw_ins_df = pd.DataFrame(throw_ins_list)\n",
    "    return throw_ins_df\n"
   ],
   "metadata": {
    "collapsed": false,
    "ExecuteTime": {
     "end_time": "2024-05-28T03:04:06.318500600Z",
     "start_time": "2024-05-28T03:04:06.286734600Z"
    }
   },
   "id": "568c1f3d0b76a8c5"
  },
  {
   "cell_type": "code",
   "execution_count": 18,
   "outputs": [],
   "source": [
    "def get_goal_kicks(match_json):\n",
    "    goal_kicks_data = match_json['incidences']['goalkick']\n",
    "    goal_kicks_list = []\n",
    "    \n",
    "    for goal_kick_id, goal_kick_info in goal_kicks_data.items():\n",
    "        goal_kick = {\n",
    "            'type': 'goal_kick',\n",
    "            'half': goal_kick_info['t'].get('half'),\n",
    "            'minute': goal_kick_info['t'].get('m'),\n",
    "            'second': goal_kick_info['t'].get('s'),\n",
    "            'team': goal_kick_info.get('team'),\n",
    "            'player_id': goal_kick_info.get('plyrId')\n",
    "        }\n",
    "        goal_kicks_list.append(goal_kick)\n",
    "    \n",
    "    goal_kicks_df = pd.DataFrame(goal_kicks_list)\n",
    "    return goal_kicks_df"
   ],
   "metadata": {
    "collapsed": false,
    "ExecuteTime": {
     "end_time": "2024-05-28T03:04:06.413622200Z",
     "start_time": "2024-05-28T03:04:06.302571800Z"
    }
   },
   "id": "8a91ba042cf36c12"
  },
  {
   "cell_type": "code",
   "execution_count": 19,
   "outputs": [],
   "source": [
    "def get_var(match_json):\n",
    "    var_data = match_json['incidences']['var']\n",
    "    var_list = []\n",
    "    \n",
    "    for var_id, var_info in var_data.items():\n",
    "        var = {\n",
    "            'type': 'var',\n",
    "            'half': var_info['t'].get('half'),\n",
    "            'minute': var_info['t'].get('m'),\n",
    "            'second': var_info['t'].get('s'),\n",
    "            'team': var_info.get('team'),\n",
    "            'reason': var_info.get('reason')\n",
    "        }\n",
    "        var_list.append(var)\n",
    "    \n",
    "    var_df = pd.DataFrame(var_list)\n",
    "    return var_df"
   ],
   "metadata": {
    "collapsed": false,
    "ExecuteTime": {
     "end_time": "2024-05-28T03:04:06.413622200Z",
     "start_time": "2024-05-28T03:04:06.318500600Z"
    }
   },
   "id": "f18bfb7840b0423d"
  },
  {
   "cell_type": "code",
   "execution_count": 20,
   "outputs": [],
   "source": [
    "def get_fouls(match_json):\n",
    "    fouls_data = match_json['incidences']['fouls']\n",
    "    fouls_list = []\n",
    "    \n",
    "    for foul_id, foul_info in fouls_data.items():\n",
    "        foul = {\n",
    "            'type': 'foul',\n",
    "            'half': foul_info['t'].get('half'),\n",
    "            'minute': foul_info['t'].get('m'),\n",
    "            'second': foul_info['t'].get('s'),\n",
    "            'team': foul_info.get('team'),\n",
    "            'receiver_id': foul_info.get('recvId'), \n",
    "            'player_id': foul_info.get('plyrId'),\n",
    "            'coord_1_x': foul_info.get('coord', {}).get('1', {}).get('x', None), \n",
    "            'coord_1_y': foul_info.get('coord', {}).get('1', {}).get('y', None),\n",
    "            'coord_1_z': foul_info.get('coord', {}).get('1', {}).get('z', None)\n",
    "        }\n",
    "        fouls_list.append(foul)\n",
    "    \n",
    "    fouls_df = pd.DataFrame(fouls_list)\n",
    "    return fouls_df"
   ],
   "metadata": {
    "collapsed": false,
    "ExecuteTime": {
     "end_time": "2024-05-28T03:04:06.413622200Z",
     "start_time": "2024-05-28T03:04:06.334511900Z"
    }
   },
   "id": "adc6ab1743448c63"
  },
  {
   "cell_type": "code",
   "execution_count": 21,
   "outputs": [],
   "source": [
    "def get_match_events(match_id): \n",
    "    match_json = get_match_json(match_id)\n",
    "    df_steals = get_steals(match_json)\n",
    "    df_fouls = get_fouls(match_json)\n",
    "    df_shots = get_shots(match_json)\n",
    "    df_var = get_var(match_json)\n",
    "    df_goal_kicks = get_goal_kicks(match_json)\n",
    "    df_throws = get_throws(match_json)\n",
    "    df_cards = get_cards(match_json)\n",
    "    df_offsides = get_offsides(match_json)\n",
    "    df_correct_passes = get_correct_passes(match_json)\n",
    "    df_incorrect_passes = get_incorrect_passes(match_json)\n",
    "    df_corners = get_corners(match_json)\n",
    "    df_clearances = get_clearances(match_json)\n",
    "    df_goals = get_goals(match_json)\n",
    "    df_subs = get_subs(match_json)\n",
    "    df_match_details = get_match_details(match_json)\n",
    "    \n",
    "    all_events_df = pd.concat([df_steals, df_fouls, df_shots, df_var, df_goal_kicks, df_throws,\n",
    "                               df_cards, df_offsides, df_correct_passes, df_incorrect_passes,\n",
    "                               df_corners, df_clearances, df_goals, df_subs], ignore_index=True)\n",
    "    \n",
    "    df_details = pd.concat([df_match_details] * len(all_events_df), ignore_index=True)\n",
    "    df_match_events = pd.concat([df_details, all_events_df], axis=1)\n",
    "    \n",
    "    df_players = get_players(match_json)\n",
    "    df_teams = get_teams(match_json)\n",
    "    player_id_to_name = dict(zip(df_players['player_id'].astype(int), df_players['name']))\n",
    "    team_id_to_name = dict(zip(df_teams['team_id'], df_teams['team_name']))\n",
    "    \n",
    "    df_match_events['player_id'] = df_match_events['player_id'].map(player_id_to_name)\n",
    "    df_match_events['receiver_id'] = df_match_events['receiver_id'].map(player_id_to_name)\n",
    "    df_match_events['team'] = df_match_events['team'].map(team_id_to_name)\n",
    "    \n",
    "    df_match_events.rename(columns={'player_id': 'player', 'receiver_id': 'receiver'}, inplace=True)\n",
    "    \n",
    "    return df_match_events"
   ],
   "metadata": {
    "collapsed": false,
    "ExecuteTime": {
     "end_time": "2024-05-28T03:04:06.413622200Z",
     "start_time": "2024-05-28T03:04:06.350448100Z"
    }
   },
   "id": "95f7541d1ee25c4"
  },
  {
   "cell_type": "code",
   "execution_count": 22,
   "outputs": [],
   "source": [
    "def get_match_csv(match_id, fixture):\n",
    "    df_events = get_match_events(match_id)\n",
    "    match_details = get_match_json(match_id)\n",
    "    match_info = match_details['match']\n",
    "    home_team = match_info['homeTeamName']\n",
    "    away_team = match_info['awayTeamName']\n",
    "    match_date = match_info['date']\n",
    "    formatted_date = datetime.strptime(match_date, \"%Y%m%d\").strftime(\"%d-%m-%Y\")\n",
    "\n",
    "    file_name = f\"{formatted_date}_{home_team}_{away_team}.csv\"\n",
    "    df_events.to_csv(f'C:/Users/tpros/PycharmProjects/Soccer/match_files/liga_argentina_2024/fecha_{fixture}/{file_name}', index=False)"
   ],
   "metadata": {
    "collapsed": false,
    "ExecuteTime": {
     "end_time": "2024-05-28T03:04:06.413622200Z",
     "start_time": "2024-05-28T03:04:06.366440200Z"
    }
   },
   "id": "87ff33750755cd27"
  },
  {
   "cell_type": "code",
   "execution_count": 23,
   "outputs": [],
   "source": [
    "get_match_csv(match_id=2643781, fixture=1)"
   ],
   "metadata": {
    "collapsed": false,
    "ExecuteTime": {
     "end_time": "2024-05-28T03:04:08.083273800Z",
     "start_time": "2024-05-28T03:04:06.382366800Z"
    }
   },
   "id": "a54ed7af9ad4e511"
  },
  {
   "cell_type": "code",
   "execution_count": 24,
   "outputs": [],
   "source": [
    "def get_fixture_data(fixture_start, fixture):\n",
    "    match_list = []\n",
    "    for i in range(0, 14):\n",
    "        match_list.append(fixture_start + i)\n",
    "    \n",
    "    for match_id in match_list:\n",
    "        get_match_csv(match_id, fixture)"
   ],
   "metadata": {
    "collapsed": false,
    "ExecuteTime": {
     "end_time": "2024-05-28T03:04:08.099069600Z",
     "start_time": "2024-05-28T03:04:08.083273800Z"
    }
   },
   "id": "1df3db0786aba9cc"
  },
  {
   "cell_type": "code",
   "execution_count": 27,
   "outputs": [],
   "source": [
    "fixture_start = 2643795\n",
    "fixture = 3\n",
    "get_fixture_data(fixture_start, fixture)"
   ],
   "metadata": {
    "collapsed": false,
    "ExecuteTime": {
     "end_time": "2024-05-28T03:04:42.219531100Z",
     "start_time": "2024-05-28T03:04:32.560604600Z"
    }
   },
   "id": "c79956e462c1f476"
  }
 ],
 "metadata": {
  "kernelspec": {
   "display_name": "Python 3",
   "language": "python",
   "name": "python3"
  },
  "language_info": {
   "codemirror_mode": {
    "name": "ipython",
    "version": 2
   },
   "file_extension": ".py",
   "mimetype": "text/x-python",
   "name": "python",
   "nbconvert_exporter": "python",
   "pygments_lexer": "ipython2",
   "version": "2.7.6"
  }
 },
 "nbformat": 4,
 "nbformat_minor": 5
}
